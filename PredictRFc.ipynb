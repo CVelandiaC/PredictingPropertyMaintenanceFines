{
 "cells": [
  {
   "cell_type": "markdown",
   "metadata": {},
   "source": [
    "---\n",
    "\n",
    "_You are currently looking at **version 1.1** of this notebook. To download notebooks and datafiles, as well as get help on Jupyter notebooks in the Coursera platform, visit the [Jupyter Notebook FAQ](https://www.coursera.org/learn/python-machine-learning/resources/bANLa) course resource._\n",
    "\n",
    "---"
   ]
  },
  {
   "cell_type": "markdown",
   "metadata": {},
   "source": [
    "## Assignment 4 - Understanding and Predicting Property Maintenance Fines\n",
    "\n",
    "This assignment is based on a data challenge from the Michigan Data Science Team ([MDST](http://midas.umich.edu/mdst/)). \n",
    "\n",
    "The Michigan Data Science Team ([MDST](http://midas.umich.edu/mdst/)) and the Michigan Student Symposium for Interdisciplinary Statistical Sciences ([MSSISS](https://sites.lsa.umich.edu/mssiss/)) have partnered with the City of Detroit to help solve one of the most pressing problems facing Detroit - blight. [Blight violations](http://www.detroitmi.gov/How-Do-I/Report/Blight-Complaint-FAQs) are issued by the city to individuals who allow their properties to remain in a deteriorated condition. Every year, the city of Detroit issues millions of dollars in fines to residents and every year, many of these fines remain unpaid. Enforcing unpaid blight fines is a costly and tedious process, so the city wants to know: how can we increase blight ticket compliance?\n",
    "\n",
    "The first step in answering this question is understanding when and why a resident might fail to comply with a blight ticket. This is where predictive modeling comes in. For this assignment, your task is to predict whether a given blight ticket will be paid on time.\n",
    "\n",
    "All data for this assignment has been provided to us through the [Detroit Open Data Portal](https://data.detroitmi.gov/). **Only the data already included in your Coursera directory can be used for training the model for this assignment.** Nonetheless, we encourage you to look into data from other Detroit datasets to help inform feature creation and model selection. We recommend taking a look at the following related datasets:\n",
    "\n",
    "* [Building Permits](https://data.detroitmi.gov/Property-Parcels/Building-Permits/xw2a-a7tf)\n",
    "* [Trades Permits](https://data.detroitmi.gov/Property-Parcels/Trades-Permits/635b-dsgv)\n",
    "* [Improve Detroit: Submitted Issues](https://data.detroitmi.gov/Government/Improve-Detroit-Submitted-Issues/fwz3-w3yn)\n",
    "* [DPD: Citizen Complaints](https://data.detroitmi.gov/Public-Safety/DPD-Citizen-Complaints-2016/kahe-efs3)\n",
    "* [Parcel Map](https://data.detroitmi.gov/Property-Parcels/Parcel-Map/fxkw-udwf)\n",
    "\n",
    "___\n",
    "\n",
    "We provide you with two data files for use in training and validating your models: train.csv and test.csv. Each row in these two files corresponds to a single blight ticket, and includes information about when, why, and to whom each ticket was issued. The target variable is compliance, which is True if the ticket was paid early, on time, or within one month of the hearing data, False if the ticket was paid after the hearing date or not at all, and Null if the violator was found not responsible. Compliance, as well as a handful of other variables that will not be available at test-time, are only included in train.csv.\n",
    "\n",
    "Note: All tickets where the violators were found not responsible are not considered during evaluation. They are included in the training set as an additional source of data for visualization, and to enable unsupervised and semi-supervised approaches. However, they are not included in the test set.\n",
    "\n",
    "<br>\n",
    "\n",
    "**File descriptions** (Use only this data for training your model!)\n",
    "\n",
    "    readonly/train.csv - the training set (all tickets issued 2004-2011)\n",
    "    readonly/test.csv - the test set (all tickets issued 2012-2016)\n",
    "    readonly/addresses.csv & readonly/latlons.csv - mapping from ticket id to addresses, and from addresses to lat/lon coordinates. \n",
    "     Note: misspelled addresses may be incorrectly geolocated.\n",
    "\n",
    "<br>\n",
    "\n",
    "**Data fields**\n",
    "\n",
    "train.csv & test.csv\n",
    "\n",
    "    ticket_id - unique identifier for tickets\n",
    "    agency_name - Agency that issued the ticket\n",
    "    inspector_name - Name of inspector that issued the ticket\n",
    "    violator_name - Name of the person/organization that the ticket was issued to\n",
    "    violation_street_number, violation_street_name, violation_zip_code - Address where the violation occurred\n",
    "    mailing_address_str_number, mailing_address_str_name, city, state, zip_code, non_us_str_code, country - Mailing address of the violator\n",
    "    ticket_issued_date - Date and time the ticket was issued\n",
    "    hearing_date - Date and time the violator's hearing was scheduled\n",
    "    violation_code, violation_description - Type of violation\n",
    "    disposition - Judgment and judgement type\n",
    "    fine_amount - Violation fine amount, excluding fees\n",
    "    admin_fee - $20 fee assigned to responsible judgments\n",
    "state_fee - $10 fee assigned to responsible judgments\n",
    "    late_fee - 10% fee assigned to responsible judgments\n",
    "    discount_amount - discount applied, if any\n",
    "    clean_up_cost - DPW clean-up or graffiti removal cost\n",
    "    judgment_amount - Sum of all fines and fees\n",
    "    grafitti_status - Flag for graffiti violations\n",
    "    \n",
    "train.csv only\n",
    "\n",
    "    payment_amount - Amount paid, if any\n",
    "    payment_date - Date payment was made, if it was received\n",
    "    payment_status - Current payment status as of Feb 1 2017\n",
    "    balance_due - Fines and fees still owed\n",
    "    collection_status - Flag for payments in collections\n",
    "    compliance [target variable for prediction] \n",
    "     Null = Not responsible\n",
    "     0 = Responsible, non-compliant\n",
    "     1 = Responsible, compliant\n",
    "    compliance_detail - More information on why each ticket was marked compliant or non-compliant\n",
    "\n",
    "\n",
    "___\n",
    "\n",
    "## Evaluation\n",
    "\n",
    "Your predictions will be given as the probability that the corresponding blight ticket will be paid on time.\n",
    "\n",
    "The evaluation metric for this assignment is the Area Under the ROC Curve (AUC). \n",
    "\n",
    "Your grade will be based on the AUC score computed for your classifier. A model which with an AUROC of 0.7 passes this assignment, over 0.75 will recieve full points.\n",
    "___\n",
    "\n",
    "For this assignment, create a function that trains a model to predict blight ticket compliance in Detroit using `readonly/train.csv`. Using this model, return a series of length 61001 with the data being the probability that each corresponding ticket from `readonly/test.csv` will be paid, and the index being the ticket_id.\n",
    "\n",
    "Example:\n",
    "\n",
    "    ticket_id\n",
    "       284932    0.531842\n",
    "       285362    0.401958\n",
    "       285361    0.105928\n",
    "       285338    0.018572\n",
    "                 ...\n",
    "       376499    0.208567\n",
    "       376500    0.818759\n",
    "       369851    0.018528\n",
    "       Name: compliance, dtype: float32\n",
    "       \n",
    "### Hints\n",
    "\n",
    "* Make sure your code is working before submitting it to the autograder.\n",
    "\n",
    "* Print out your result to see whether there is anything weird (e.g., all probabilities are the same).\n",
    "\n",
    "* Generally the total runtime should be less than 10 mins. You should NOT use Neural Network related classifiers (e.g., MLPClassifier) in this question. \n",
    "\n",
    "* Try to avoid global variables. If you have other functions besides blight_model, you should move those functions inside the scope of blight_model.\n",
    "\n",
    "* Refer to the pinned threads in Week 4's discussion forum when there is something you could not figure it out."
   ]
  },
  {
   "cell_type": "code",
   "execution_count": 2,
   "metadata": {},
   "outputs": [],
   "source": [
    "import pandas as pd\n",
    "import numpy as np\n",
    "\n",
    "from sklearn.ensemble import RandomForestClassifier\n",
    "from sklearn.model_selection import train_test_split\n",
    "from sklearn.model_selection import GridSearchCV\n",
    "from sklearn.metrics import roc_auc_score\n",
    "\n",
    "# Data loading and processing\n",
    "Cols = ['ticket_id', 'fine_amount','admin_fee','state_fee','late_fee', 'discount_amount']\n",
    "X_Val = pd.read_csv('test.csv', usecols=Cols)\n",
    "X_Val.set_index(['ticket_id'], inplace=True)\n",
    "\n",
    "Cols = ['ticket_id', 'fine_amount','admin_fee','state_fee','late_fee', 'discount_amount' ,'compliance']\n",
    "TrainD = pd.read_csv('train.csv', usecols=Cols)\n",
    "TrainD.dropna(inplace=True)\n",
    "\n",
    "Comp = TrainD['compliance'].copy()\n",
    "\n",
    "TrainD.drop(['compliance'], axis=1, inplace=True)\n",
    "TrainD.set_index(['ticket_id'], inplace=True)\n"
   ]
  },
  {
   "cell_type": "code",
   "execution_count": 3,
   "metadata": {
    "tags": [
     "outputPrepend"
    ]
   },
   "outputs": [
    {
     "output_type": "stream",
     "name": "stdout",
     "text": "ures=sqrt, n_estimators=1 ...............................\n[CV] ................ max_features=sqrt, n_estimators=1, total=   0.0s\n[CV] max_features=sqrt, n_estimators=1 ...............................\n[CV] ................ max_features=sqrt, n_estimators=1, total=   0.0s\n[CV] max_features=sqrt, n_estimators=1 ...............................\n[CV] ................ max_features=sqrt, n_estimators=1, total=   0.0s\n[CV] max_features=sqrt, n_estimators=5 ...............................\n[Parallel(n_jobs=1)]: Using backend SequentialBackend with 1 concurrent workers.\n[Parallel(n_jobs=1)]: Done   1 out of   1 | elapsed:    0.0s remaining:    0.0s\n[CV] ................ max_features=sqrt, n_estimators=5, total=   0.1s\n[CV] max_features=sqrt, n_estimators=5 ...............................\n[CV] ................ max_features=sqrt, n_estimators=5, total=   0.1s\n[CV] max_features=sqrt, n_estimators=5 ...............................\n[CV] ................ max_features=sqrt, n_estimators=5, total=   0.1s\n[CV] max_features=sqrt, n_estimators=5 ...............................\n[CV] ................ max_features=sqrt, n_estimators=5, total=   0.1s\n[CV] max_features=sqrt, n_estimators=5 ...............................\n[CV] ................ max_features=sqrt, n_estimators=5, total=   0.1s\n[CV] max_features=sqrt, n_estimators=10 ..............................\n[CV] ............... max_features=sqrt, n_estimators=10, total=   0.2s\n[CV] max_features=sqrt, n_estimators=10 ..............................\n[CV] ............... max_features=sqrt, n_estimators=10, total=   0.2s\n[CV] max_features=sqrt, n_estimators=10 ..............................\n[CV] ............... max_features=sqrt, n_estimators=10, total=   0.2s\n[CV] max_features=sqrt, n_estimators=10 ..............................\n[CV] ............... max_features=sqrt, n_estimators=10, total=   0.2s\n[CV] max_features=sqrt, n_estimators=10 ..............................\n[CV] ............... max_features=sqrt, n_estimators=10, total=   0.2s\n[CV] max_features=sqrt, n_estimators=100 .............................\n[CV] .............. max_features=sqrt, n_estimators=100, total=   1.7s\n[CV] max_features=sqrt, n_estimators=100 .............................\n[CV] .............. max_features=sqrt, n_estimators=100, total=   1.8s\n[CV] max_features=sqrt, n_estimators=100 .............................\n[CV] .............. max_features=sqrt, n_estimators=100, total=   1.7s\n[CV] max_features=sqrt, n_estimators=100 .............................\n[CV] .............. max_features=sqrt, n_estimators=100, total=   1.7s\n[CV] max_features=sqrt, n_estimators=100 .............................\n[CV] .............. max_features=sqrt, n_estimators=100, total=   1.7s\n[CV] max_features=sqrt, n_estimators=200 .............................\n[CV] .............. max_features=sqrt, n_estimators=200, total=   3.2s\n[CV] max_features=sqrt, n_estimators=200 .............................\n[CV] .............. max_features=sqrt, n_estimators=200, total=   3.3s\n[CV] max_features=sqrt, n_estimators=200 .............................\n[CV] .............. max_features=sqrt, n_estimators=200, total=   3.3s\n[CV] max_features=sqrt, n_estimators=200 .............................\n[CV] .............. max_features=sqrt, n_estimators=200, total=   3.2s\n[CV] max_features=sqrt, n_estimators=200 .............................\n[CV] .............. max_features=sqrt, n_estimators=200, total=   3.3s\n[CV] max_features=sqrt, n_estimators=300 .............................\n[CV] .............. max_features=sqrt, n_estimators=300, total=   5.5s\n[CV] max_features=sqrt, n_estimators=300 .............................\n[CV] .............. max_features=sqrt, n_estimators=300, total=   5.3s\n[CV] max_features=sqrt, n_estimators=300 .............................\n[CV] .............. max_features=sqrt, n_estimators=300, total=   5.1s\n[CV] max_features=sqrt, n_estimators=300 .............................\n[CV] .............. max_features=sqrt, n_estimators=300, total=   5.2s\n[CV] max_features=sqrt, n_estimators=300 .............................\n[CV] .............. max_features=sqrt, n_estimators=300, total=   5.2s\n[CV] max_features=sqrt, n_estimators=500 .............................\n[CV] .............. max_features=sqrt, n_estimators=500, total=   8.6s\n[CV] max_features=sqrt, n_estimators=500 .............................\n[CV] .............. max_features=sqrt, n_estimators=500, total=   8.5s\n[CV] max_features=sqrt, n_estimators=500 .............................\n[CV] .............. max_features=sqrt, n_estimators=500, total=   8.5s\n[CV] max_features=sqrt, n_estimators=500 .............................\n[CV] .............. max_features=sqrt, n_estimators=500, total=   8.6s\n[CV] max_features=sqrt, n_estimators=500 .............................\n[CV] .............. max_features=sqrt, n_estimators=500, total=   8.7s\n[CV] max_features=1, n_estimators=1 ..................................\n[CV] ................... max_features=1, n_estimators=1, total=   0.0s\n[CV] max_features=1, n_estimators=1 ..................................\n[CV] ................... max_features=1, n_estimators=1, total=   0.0s\n[CV] max_features=1, n_estimators=1 ..................................\n[CV] ................... max_features=1, n_estimators=1, total=   0.0s\n[CV] max_features=1, n_estimators=1 ..................................\n[CV] ................... max_features=1, n_estimators=1, total=   0.0s\n[CV] max_features=1, n_estimators=1 ..................................\n[CV] ................... max_features=1, n_estimators=1, total=   0.0s\n[CV] max_features=1, n_estimators=5 ..................................\n[CV] ................... max_features=1, n_estimators=5, total=   0.1s\n[CV] max_features=1, n_estimators=5 ..................................\n[CV] ................... max_features=1, n_estimators=5, total=   0.1s\n[CV] max_features=1, n_estimators=5 ..................................\n[CV] ................... max_features=1, n_estimators=5, total=   0.1s\n[CV] max_features=1, n_estimators=5 ..................................\n[CV] ................... max_features=1, n_estimators=5, total=   0.1s\n[CV] max_features=1, n_estimators=5 ..................................\n[CV] ................... max_features=1, n_estimators=5, total=   0.1s\n[CV] max_features=1, n_estimators=10 .................................\n[CV] .................. max_features=1, n_estimators=10, total=   0.2s\n[CV] max_features=1, n_estimators=10 .................................\n[CV] .................. max_features=1, n_estimators=10, total=   0.2s\n[CV] max_features=1, n_estimators=10 .................................\n[CV] .................. max_features=1, n_estimators=10, total=   0.2s\n[CV] max_features=1, n_estimators=10 .................................\n[CV] .................. max_features=1, n_estimators=10, total=   0.2s\n[CV] max_features=1, n_estimators=10 .................................\n[CV] .................. max_features=1, n_estimators=10, total=   0.2s\n[CV] max_features=1, n_estimators=100 ................................\n[CV] ................. max_features=1, n_estimators=100, total=   1.7s\n[CV] max_features=1, n_estimators=100 ................................\n[CV] ................. max_features=1, n_estimators=100, total=   1.7s\n[CV] max_features=1, n_estimators=100 ................................\n[CV] ................. max_features=1, n_estimators=100, total=   1.7s\n[CV] max_features=1, n_estimators=100 ................................\n[CV] ................. max_features=1, n_estimators=100, total=   1.7s\n[CV] max_features=1, n_estimators=100 ................................\n[CV] ................. max_features=1, n_estimators=100, total=   1.7s\n[CV] max_features=1, n_estimators=200 ................................\n[CV] ................. max_features=1, n_estimators=200, total=   3.4s\n[CV] max_features=1, n_estimators=200 ................................\n[CV] ................. max_features=1, n_estimators=200, total=   3.4s\n[CV] max_features=1, n_estimators=200 ................................\n[CV] ................. max_features=1, n_estimators=200, total=   3.6s\n[CV] max_features=1, n_estimators=200 ................................\n[CV] ................. max_features=1, n_estimators=200, total=   3.6s\n[CV] max_features=1, n_estimators=200 ................................\n[CV] ................. max_features=1, n_estimators=200, total=   3.7s\n[CV] max_features=1, n_estimators=300 ................................\n[CV] ................. max_features=1, n_estimators=300, total=   5.1s\n[CV] max_features=1, n_estimators=300 ................................\n[CV] ................. max_features=1, n_estimators=300, total=   5.2s\n[CV] max_features=1, n_estimators=300 ................................\n[CV] ................. max_features=1, n_estimators=300, total=   5.2s\n[CV] max_features=1, n_estimators=300 ................................\n[CV] ................. max_features=1, n_estimators=300, total=   5.1s\n[CV] max_features=1, n_estimators=300 ................................\n[CV] ................. max_features=1, n_estimators=300, total=   5.2s\n[CV] max_features=1, n_estimators=500 ................................\n[CV] ................. max_features=1, n_estimators=500, total=   8.5s\n[CV] max_features=1, n_estimators=500 ................................\n[CV] ................. max_features=1, n_estimators=500, total=   8.7s\n[CV] max_features=1, n_estimators=500 ................................\n[CV] ................. max_features=1, n_estimators=500, total=   8.8s\n[CV] max_features=1, n_estimators=500 ................................\n[CV] ................. max_features=1, n_estimators=500, total=   8.5s\n[CV] max_features=1, n_estimators=500 ................................\n[CV] ................. max_features=1, n_estimators=500, total=   8.6s\n[CV] max_features=2, n_estimators=1 ..................................\n[CV] ................... max_features=2, n_estimators=1, total=   0.0s\n[CV] max_features=2, n_estimators=1 ..................................\n[CV] ................... max_features=2, n_estimators=1, total=   0.0s\n[CV] max_features=2, n_estimators=1 ..................................\n[CV] ................... max_features=2, n_estimators=1, total=   0.0s\n[CV] max_features=2, n_estimators=1 ..................................\n[CV] ................... max_features=2, n_estimators=1, total=   0.0s\n[CV] max_features=2, n_estimators=1 ..................................\n[CV] ................... max_features=2, n_estimators=1, total=   0.0s\n[CV] max_features=2, n_estimators=5 ..................................\n[CV] ................... max_features=2, n_estimators=5, total=   0.1s\n[CV] max_features=2, n_estimators=5 ..................................\n[CV] ................... max_features=2, n_estimators=5, total=   0.1s\n[CV] max_features=2, n_estimators=5 ..................................\n[CV] ................... max_features=2, n_estimators=5, total=   0.1s\n[CV] max_features=2, n_estimators=5 ..................................\n[CV] ................... max_features=2, n_estimators=5, total=   0.1s\n[CV] max_features=2, n_estimators=5 ..................................\n[CV] ................... max_features=2, n_estimators=5, total=   0.1s\n[CV] max_features=2, n_estimators=10 .................................\n[CV] .................. max_features=2, n_estimators=10, total=   0.2s\n[CV] max_features=2, n_estimators=10 .................................\n[CV] .................. max_features=2, n_estimators=10, total=   0.2s\n[CV] max_features=2, n_estimators=10 .................................\n[CV] .................. max_features=2, n_estimators=10, total=   0.2s\n[CV] max_features=2, n_estimators=10 .................................\n[CV] .................. max_features=2, n_estimators=10, total=   0.2s\n[CV] max_features=2, n_estimators=10 .................................\n[CV] .................. max_features=2, n_estimators=10, total=   0.2s\n[CV] max_features=2, n_estimators=100 ................................\n[CV] ................. max_features=2, n_estimators=100, total=   1.7s\n[CV] max_features=2, n_estimators=100 ................................\n[CV] ................. max_features=2, n_estimators=100, total=   1.8s\n[CV] max_features=2, n_estimators=100 ................................\n[CV] ................. max_features=2, n_estimators=100, total=   1.8s\n[CV] max_features=2, n_estimators=100 ................................\n[CV] ................. max_features=2, n_estimators=100, total=   1.8s\n[CV] max_features=2, n_estimators=100 ................................\n[CV] ................. max_features=2, n_estimators=100, total=   1.8s\n[CV] max_features=2, n_estimators=200 ................................\n[CV] ................. max_features=2, n_estimators=200, total=   3.4s\n[CV] max_features=2, n_estimators=200 ................................\n[CV] ................. max_features=2, n_estimators=200, total=   3.5s\n[CV] max_features=2, n_estimators=200 ................................\n[CV] ................. max_features=2, n_estimators=200, total=   3.5s\n[CV] max_features=2, n_estimators=200 ................................\n[CV] ................. max_features=2, n_estimators=200, total=   3.4s\n[CV] max_features=2, n_estimators=200 ................................\n[CV] ................. max_features=2, n_estimators=200, total=   3.8s\n[CV] max_features=2, n_estimators=300 ................................\n[CV] ................. max_features=2, n_estimators=300, total=   5.6s\n[CV] max_features=2, n_estimators=300 ................................\n[CV] ................. max_features=2, n_estimators=300, total=   5.2s\n[CV] max_features=2, n_estimators=300 ................................\n[CV] ................. max_features=2, n_estimators=300, total=   6.0s\n[CV] max_features=2, n_estimators=300 ................................\n[CV] ................. max_features=2, n_estimators=300, total=   5.9s\n[CV] max_features=2, n_estimators=300 ................................\n[CV] ................. max_features=2, n_estimators=300, total=   5.4s\n[CV] max_features=2, n_estimators=500 ................................\n[CV] ................. max_features=2, n_estimators=500, total=   9.2s\n[CV] max_features=2, n_estimators=500 ................................\n[CV] ................. max_features=2, n_estimators=500, total=   9.2s\n[CV] max_features=2, n_estimators=500 ................................\n[CV] ................. max_features=2, n_estimators=500, total=   9.0s\n[CV] max_features=2, n_estimators=500 ................................\n[CV] ................. max_features=2, n_estimators=500, total=   8.9s\n[CV] max_features=2, n_estimators=500 ................................\n[CV] ................. max_features=2, n_estimators=500, total=   8.8s\n[CV] max_features=3, n_estimators=1 ..................................\n[CV] ................... max_features=3, n_estimators=1, total=   0.0s\n[CV] max_features=3, n_estimators=1 ..................................\n[CV] ................... max_features=3, n_estimators=1, total=   0.0s\n[CV] max_features=3, n_estimators=1 ..................................\n[CV] ................... max_features=3, n_estimators=1, total=   0.0s\n[CV] max_features=3, n_estimators=1 ..................................\n[CV] ................... max_features=3, n_estimators=1, total=   0.0s\n[CV] max_features=3, n_estimators=1 ..................................\n[CV] ................... max_features=3, n_estimators=1, total=   0.0s\n[CV] max_features=3, n_estimators=5 ..................................\n[CV] ................... max_features=3, n_estimators=5, total=   0.1s\n[CV] max_features=3, n_estimators=5 ..................................\n[CV] ................... max_features=3, n_estimators=5, total=   0.1s\n[CV] max_features=3, n_estimators=5 ..................................\n[CV] ................... max_features=3, n_estimators=5, total=   0.1s\n[CV] max_features=3, n_estimators=5 ..................................\n[CV] ................... max_features=3, n_estimators=5, total=   0.1s\n[CV] max_features=3, n_estimators=5 ..................................\n[CV] ................... max_features=3, n_estimators=5, total=   0.1s\n[CV] max_features=3, n_estimators=10 .................................\n[CV] .................. max_features=3, n_estimators=10, total=   0.2s\n[CV] max_features=3, n_estimators=10 .................................\n[CV] .................. max_features=3, n_estimators=10, total=   0.2s\n[CV] max_features=3, n_estimators=10 .................................\n[CV] .................. max_features=3, n_estimators=10, total=   0.2s\n[CV] max_features=3, n_estimators=10 .................................\n[CV] .................. max_features=3, n_estimators=10, total=   0.3s\n[CV] max_features=3, n_estimators=10 .................................\n[CV] .................. max_features=3, n_estimators=10, total=   0.3s\n[CV] max_features=3, n_estimators=100 ................................\n[CV] ................. max_features=3, n_estimators=100, total=   2.3s\n[CV] max_features=3, n_estimators=100 ................................\n[CV] ................. max_features=3, n_estimators=100, total=   2.0s\n[CV] max_features=3, n_estimators=100 ................................\n[CV] ................. max_features=3, n_estimators=100, total=   2.2s\n[CV] max_features=3, n_estimators=100 ................................\n[CV] ................. max_features=3, n_estimators=100, total=   2.0s\n[CV] max_features=3, n_estimators=100 ................................\n[CV] ................. max_features=3, n_estimators=100, total=   1.9s\n[CV] max_features=3, n_estimators=200 ................................\n[CV] ................. max_features=3, n_estimators=200, total=   3.7s\n[CV] max_features=3, n_estimators=200 ................................\n[CV] ................. max_features=3, n_estimators=200, total=   3.5s\n[CV] max_features=3, n_estimators=200 ................................\n[CV] ................. max_features=3, n_estimators=200, total=   3.5s\n[CV] max_features=3, n_estimators=200 ................................\n[CV] ................. max_features=3, n_estimators=200, total=   3.7s\n[CV] max_features=3, n_estimators=200 ................................\n[CV] ................. max_features=3, n_estimators=200, total=   3.6s\n[CV] max_features=3, n_estimators=300 ................................\n[CV] ................. max_features=3, n_estimators=300, total=   5.3s\n[CV] max_features=3, n_estimators=300 ................................\n[CV] ................. max_features=3, n_estimators=300, total=   5.3s\n[CV] max_features=3, n_estimators=300 ................................\n[CV] ................. max_features=3, n_estimators=300, total=   5.8s\n[CV] max_features=3, n_estimators=300 ................................\n[CV] ................. max_features=3, n_estimators=300, total=   5.1s\n[CV] max_features=3, n_estimators=300 ................................\n[CV] ................. max_features=3, n_estimators=300, total=   5.3s\n[CV] max_features=3, n_estimators=500 ................................\n[CV] ................. max_features=3, n_estimators=500, total=   8.6s\n[CV] max_features=3, n_estimators=500 ................................\n[CV] ................. max_features=3, n_estimators=500, total=   8.7s\n[CV] max_features=3, n_estimators=500 ................................\n[CV] ................. max_features=3, n_estimators=500, total=   8.6s\n[CV] max_features=3, n_estimators=500 ................................\n[CV] ................. max_features=3, n_estimators=500, total=   8.8s\n[CV] max_features=3, n_estimators=500 ................................\n[CV] ................. max_features=3, n_estimators=500, total=   9.2s\n[Parallel(n_jobs=1)]: Done 140 out of 140 | elapsed:  6.6min finished\nTrain set AUC:  0.7589690307325003\nTest set AUC:  0.7548731098218648\nGrid best parameter (max. AUC):  {'max_features': 1, 'n_estimators': 100}\nGrid best score (AUC):  0.7582612832879938\n"
    }
   ],
   "source": [
    "# Random forest model hyperparameter tuning by gridsearch and CV\n",
    "# Model tuned using ROC AUC score\n",
    "\n",
    "X_train, X_test, y_train, y_test = train_test_split(TrainD, Comp, random_state=0)\n",
    "    \n",
    "model = RandomForestClassifier() #Define RFC model\n",
    "grid_values = {'n_estimators': [1, 5, 10, 100,200,300,500], 'max_features': ['sqrt',1,2,3]} #Define values for grid search\n",
    "\n",
    "grid_clf_auc = GridSearchCV(model, param_grid = grid_values, scoring = 'roc_auc', verbose=2) #Define the grid search object\n",
    "grid_clf_auc.fit(X_train, y_train) #Fit the model\n",
    "\n",
    "y_proba_tr = grid_clf_auc.predict_proba(X_train) #Predict probabilities of train set\n",
    "Faults1 = np.array([s[1] for s in  y_proba_tr]) #Get the probabilities of ticket paid\n",
    "\n",
    "y_proba_te = grid_clf_auc.predict_proba(X_test) #Predict probabilities of test set\n",
    "Faults = np.array([s[1] for s in  y_proba_te]) #Get the probabilities of ticket paid\n",
    "\n",
    "print('Train set AUC: ', roc_auc_score(y_train, Faults1))\n",
    "print('Test set AUC: ', roc_auc_score(y_test, Faults))\n",
    "print('Grid best parameter (max. AUC): ', grid_clf_auc.best_params_)\n",
    "print('Grid best score (AUC): ', grid_clf_auc.best_score_)"
   ]
  },
  {
   "cell_type": "code",
   "execution_count": 6,
   "metadata": {},
   "outputs": [],
   "source": [
    "def blight_model():\n",
    "    # The optimal model is defined and trained with the whole train set\n",
    "    Model = RandomForestClassifier(n_estimators=100, max_features=1).fit(TrainD, Comp) \n",
    "    \n",
    "    proba = Model.predict_proba(X_Val) #Calculate Test probabilites\n",
    "    Pays = np.array([s[1] for s in  proba]) #Get ticket paid probabilites\n",
    "    probs = pd.Series(Pays, index=X_Val.index) #Reorder data for submission\n",
    "    \n",
    "    return probs"
   ]
  },
  {
   "cell_type": "code",
   "execution_count": 7,
   "metadata": {
    "scrolled": false
   },
   "outputs": [
    {
     "output_type": "execute_result",
     "data": {
      "text/plain": "ticket_id\n284932    0.060604\n285362    0.023615\n285361    0.069553\n285338    0.060604\n285346    0.069553\n            ...   \n376496    0.023615\n376497    0.023615\n376499    0.069553\n376500    0.069553\n369851    0.261616\nLength: 61001, dtype: float64"
     },
     "metadata": {},
     "execution_count": 7
    }
   ],
   "source": [
    "blight_model()"
   ]
  }
 ],
 "metadata": {
  "coursera": {
   "course_slug": "python-machine-learning",
   "graded_item_id": "nNS8l",
   "launcher_item_id": "yWWk7",
   "part_id": "w8BSS"
  },
  "kernelspec": {
   "display_name": "Python 3.8.3 64-bit",
   "language": "python",
   "name": "python_defaultSpec_1595702299665"
  },
  "language_info": {
   "codemirror_mode": {
    "name": "ipython",
    "version": 3
   },
   "file_extension": ".py",
   "mimetype": "text/x-python",
   "name": "python",
   "nbconvert_exporter": "python",
   "pygments_lexer": "ipython3",
   "version": "3.8.3-final"
  }
 },
 "nbformat": 4,
 "nbformat_minor": 2
}